{
 "cells": [
  {
   "cell_type": "code",
   "execution_count": 1,
   "id": "d753ecd9",
   "metadata": {},
   "outputs": [
    {
     "name": "stderr",
     "output_type": "stream",
     "text": [
      "C:\\Users\\Neeraj\\anaconda3\\lib\\site-packages\\scipy\\__init__.py:146: UserWarning: A NumPy version >=1.16.5 and <1.23.0 is required for this version of SciPy (detected version 1.26.0\n",
      "  warnings.warn(f\"A NumPy version >={np_minversion} and <{np_maxversion}\"\n"
     ]
    }
   ],
   "source": [
    "import numpy as np\n",
    "import pandas as pd\n",
    "import seaborn as sns\n",
    "import matplotlib.pyplot as plt "
   ]
  },
  {
   "cell_type": "code",
   "execution_count": 2,
   "id": "846bafba",
   "metadata": {},
   "outputs": [],
   "source": [
    "desc = pd.read_excel(\"Survey.xlsx\",sheet_name= \"Description\")"
   ]
  },
  {
   "cell_type": "code",
   "execution_count": 3,
   "id": "6e8609c8",
   "metadata": {},
   "outputs": [
    {
     "data": {
      "text/html": [
       "<div>\n",
       "<style scoped>\n",
       "    .dataframe tbody tr th:only-of-type {\n",
       "        vertical-align: middle;\n",
       "    }\n",
       "\n",
       "    .dataframe tbody tr th {\n",
       "        vertical-align: top;\n",
       "    }\n",
       "\n",
       "    .dataframe thead th {\n",
       "        text-align: right;\n",
       "    }\n",
       "</style>\n",
       "<table border=\"1\" class=\"dataframe\">\n",
       "  <thead>\n",
       "    <tr style=\"text-align: right;\">\n",
       "      <th></th>\n",
       "      <th>Column</th>\n",
       "      <th>Description</th>\n",
       "    </tr>\n",
       "  </thead>\n",
       "  <tbody>\n",
       "    <tr>\n",
       "      <th>0</th>\n",
       "      <td>response_id</td>\n",
       "      <td>Unique id for each sample (respondent).</td>\n",
       "    </tr>\n",
       "    <tr>\n",
       "      <th>1</th>\n",
       "      <td>collection_date</td>\n",
       "      <td>Date on which the sample was collected.</td>\n",
       "    </tr>\n",
       "    <tr>\n",
       "      <th>2</th>\n",
       "      <td>urban_rural</td>\n",
       "      <td>Whether the respodent belongs to a rural or ur...</td>\n",
       "    </tr>\n",
       "    <tr>\n",
       "      <th>3</th>\n",
       "      <td>education</td>\n",
       "      <td>The education qualitfication of the repondent</td>\n",
       "    </tr>\n",
       "    <tr>\n",
       "      <th>4</th>\n",
       "      <td>income</td>\n",
       "      <td>Income of the respondent.</td>\n",
       "    </tr>\n",
       "  </tbody>\n",
       "</table>\n",
       "</div>"
      ],
      "text/plain": [
       "            Column                                        Description\n",
       "0      response_id            Unique id for each sample (respondent).\n",
       "1  collection_date            Date on which the sample was collected.\n",
       "2      urban_rural  Whether the respodent belongs to a rural or ur...\n",
       "3        education      The education qualitfication of the repondent\n",
       "4           income                          Income of the respondent."
      ]
     },
     "execution_count": 3,
     "metadata": {},
     "output_type": "execute_result"
    }
   ],
   "source": [
    "desc.head()"
   ]
  },
  {
   "cell_type": "code",
   "execution_count": 4,
   "id": "c52077e1",
   "metadata": {},
   "outputs": [],
   "source": [
    "data=pd.read_excel('Survey.xlsx',sheet_name='Data')"
   ]
  },
  {
   "cell_type": "code",
   "execution_count": 5,
   "id": "a03028cb",
   "metadata": {},
   "outputs": [
    {
     "data": {
      "text/html": [
       "<div>\n",
       "<style scoped>\n",
       "    .dataframe tbody tr th:only-of-type {\n",
       "        vertical-align: middle;\n",
       "    }\n",
       "\n",
       "    .dataframe tbody tr th {\n",
       "        vertical-align: top;\n",
       "    }\n",
       "\n",
       "    .dataframe thead th {\n",
       "        text-align: right;\n",
       "    }\n",
       "</style>\n",
       "<table border=\"1\" class=\"dataframe\">\n",
       "  <thead>\n",
       "    <tr style=\"text-align: right;\">\n",
       "      <th></th>\n",
       "      <th>response_id</th>\n",
       "      <th>collection_date</th>\n",
       "      <th>urban_rural</th>\n",
       "      <th>education</th>\n",
       "      <th>income</th>\n",
       "      <th>Vote_Now</th>\n",
       "      <th>Past_Vote</th>\n",
       "      <th>CM_satisfaction</th>\n",
       "      <th>MLA_satisfaction</th>\n",
       "      <th>age</th>\n",
       "      <th>gender</th>\n",
       "      <th>assembly_no</th>\n",
       "      <th>category</th>\n",
       "      <th>weight</th>\n",
       "    </tr>\n",
       "  </thead>\n",
       "  <tbody>\n",
       "    <tr>\n",
       "      <th>0</th>\n",
       "      <td>1.0</td>\n",
       "      <td>2020-08-24</td>\n",
       "      <td>Rural</td>\n",
       "      <td>12th Pass</td>\n",
       "      <td>₹ 30,000 - ₹ 50,000</td>\n",
       "      <td>BJP</td>\n",
       "      <td>BJP</td>\n",
       "      <td>Fully Dissatisfied</td>\n",
       "      <td>Fully Dissatisfied</td>\n",
       "      <td>26.0</td>\n",
       "      <td>Male</td>\n",
       "      <td>211.0</td>\n",
       "      <td>Gen</td>\n",
       "      <td>0.346969</td>\n",
       "    </tr>\n",
       "    <tr>\n",
       "      <th>1</th>\n",
       "      <td>2.0</td>\n",
       "      <td>2020-08-24</td>\n",
       "      <td>Rural</td>\n",
       "      <td>Graduate</td>\n",
       "      <td>₹ 20,000 - ₹ 30,000</td>\n",
       "      <td>RLSP</td>\n",
       "      <td>JD(U)</td>\n",
       "      <td>Somewhat Satisfied</td>\n",
       "      <td>Fully Dissatisfied</td>\n",
       "      <td>34.0</td>\n",
       "      <td>Male</td>\n",
       "      <td>189.0</td>\n",
       "      <td>BC</td>\n",
       "      <td>0.603419</td>\n",
       "    </tr>\n",
       "    <tr>\n",
       "      <th>2</th>\n",
       "      <td>3.0</td>\n",
       "      <td>2020-08-24</td>\n",
       "      <td>Rural</td>\n",
       "      <td>Graduate</td>\n",
       "      <td>₹ 5,000 - ₹ 10,000</td>\n",
       "      <td>JAP(L)</td>\n",
       "      <td>BJP</td>\n",
       "      <td>Fully Dissatisfied</td>\n",
       "      <td>Somewhat Satisfied</td>\n",
       "      <td>25.0</td>\n",
       "      <td>Male</td>\n",
       "      <td>191.0</td>\n",
       "      <td>Gen</td>\n",
       "      <td>0.673762</td>\n",
       "    </tr>\n",
       "    <tr>\n",
       "      <th>3</th>\n",
       "      <td>4.0</td>\n",
       "      <td>2020-08-24</td>\n",
       "      <td>Urban</td>\n",
       "      <td>Graduate</td>\n",
       "      <td>₹ 10,000 - ₹ 20,000</td>\n",
       "      <td>RJD</td>\n",
       "      <td>RJD</td>\n",
       "      <td>Fully Dissatisfied</td>\n",
       "      <td>Somewhat Satisfied</td>\n",
       "      <td>36.0</td>\n",
       "      <td>Male</td>\n",
       "      <td>194.0</td>\n",
       "      <td>Gen</td>\n",
       "      <td>1.101298</td>\n",
       "    </tr>\n",
       "    <tr>\n",
       "      <th>4</th>\n",
       "      <td>5.0</td>\n",
       "      <td>2020-08-24</td>\n",
       "      <td>Rural</td>\n",
       "      <td>Graduate</td>\n",
       "      <td>₹ 50,000 - ₹ 80,000</td>\n",
       "      <td>JD(U)</td>\n",
       "      <td>Did not vote</td>\n",
       "      <td>Fully Satisfied</td>\n",
       "      <td>Fully Satisfied</td>\n",
       "      <td>22.0</td>\n",
       "      <td>Male</td>\n",
       "      <td>176.0</td>\n",
       "      <td>BC</td>\n",
       "      <td>0.333505</td>\n",
       "    </tr>\n",
       "  </tbody>\n",
       "</table>\n",
       "</div>"
      ],
      "text/plain": [
       "   response_id collection_date urban_rural  education               income  \\\n",
       "0          1.0      2020-08-24       Rural  12th Pass  ₹ 30,000 - ₹ 50,000   \n",
       "1          2.0      2020-08-24       Rural   Graduate  ₹ 20,000 - ₹ 30,000   \n",
       "2          3.0      2020-08-24       Rural   Graduate   ₹ 5,000 - ₹ 10,000   \n",
       "3          4.0      2020-08-24       Urban   Graduate  ₹ 10,000 - ₹ 20,000   \n",
       "4          5.0      2020-08-24       Rural   Graduate  ₹ 50,000 - ₹ 80,000   \n",
       "\n",
       "  Vote_Now     Past_Vote     CM_satisfaction    MLA_satisfaction   age gender  \\\n",
       "0      BJP           BJP  Fully Dissatisfied  Fully Dissatisfied  26.0   Male   \n",
       "1     RLSP         JD(U)  Somewhat Satisfied  Fully Dissatisfied  34.0   Male   \n",
       "2   JAP(L)           BJP  Fully Dissatisfied  Somewhat Satisfied  25.0   Male   \n",
       "3      RJD           RJD  Fully Dissatisfied  Somewhat Satisfied  36.0   Male   \n",
       "4    JD(U)  Did not vote     Fully Satisfied     Fully Satisfied  22.0   Male   \n",
       "\n",
       "   assembly_no category    weight  \n",
       "0        211.0      Gen  0.346969  \n",
       "1        189.0       BC  0.603419  \n",
       "2        191.0      Gen  0.673762  \n",
       "3        194.0      Gen  1.101298  \n",
       "4        176.0       BC  0.333505  "
      ]
     },
     "execution_count": 5,
     "metadata": {},
     "output_type": "execute_result"
    }
   ],
   "source": [
    "survey=pd.DataFrame(data)\n",
    "survey.head()"
   ]
  },
  {
   "cell_type": "code",
   "execution_count": 6,
   "id": "38ff5e70",
   "metadata": {},
   "outputs": [
    {
     "data": {
      "text/plain": [
       "2020-08-24    1479\n",
       "2020-08-25     998\n",
       "2020-08-28     761\n",
       "2020-08-27     665\n",
       "2020-08-29     620\n",
       "2020-09-01     607\n",
       "2020-08-26     598\n",
       "2020-08-30     582\n",
       "2020-08-31     557\n",
       "Name: collection_date, dtype: int64"
      ]
     },
     "execution_count": 6,
     "metadata": {},
     "output_type": "execute_result"
    }
   ],
   "source": [
    "graph=survey['collection_date'].value_counts()\n",
    "graph"
   ]
  },
  {
   "cell_type": "code",
   "execution_count": 7,
   "id": "810602b6",
   "metadata": {},
   "outputs": [
    {
     "data": {
      "text/plain": [
       "<AxesSubplot:>"
      ]
     },
     "execution_count": 7,
     "metadata": {},
     "output_type": "execute_result"
    },
    {
     "data": {
      "image/png": "[encoded data removed]",
      "text/plain": [
       "<Figure size 432x288 with 1 Axes>"
      ]
     },
     "metadata": {
      "needs_background": "light"
     },
     "output_type": "display_data"
    }
   ],
   "source": [
    "graph.plot(kind='bar')"
   ]
  },
  {
   "cell_type": "code",
   "execution_count": 8,
   "id": "46396b83",
   "metadata": {},
   "outputs": [
    {
     "data": {
      "text/plain": [
       "25.0    598\n",
       "24.0    449\n",
       "30.0    440\n",
       "28.0    396\n",
       "22.0    392\n",
       "26.0    389\n",
       "27.0    360\n",
       "20.0    328\n",
       "23.0    317\n",
       "21.0    311\n",
       "32.0    263\n",
       "35.0    263\n",
       "29.0    239\n",
       "40.0    177\n",
       "34.0    173\n",
       "19.0    171\n",
       "31.0    159\n",
       "33.0    143\n",
       "38.0    135\n",
       "36.0    127\n",
       "18.0    125\n",
       "42.0    104\n",
       "37.0     90\n",
       "45.0     82\n",
       "43.0     72\n",
       "39.0     69\n",
       "50.0     60\n",
       "41.0     54\n",
       "44.0     54\n",
       "48.0     35\n",
       "47.0     34\n",
       "46.0     32\n",
       "49.0     27\n",
       "52.0     24\n",
       "51.0     23\n",
       "55.0     20\n",
       "60.0     15\n",
       "53.0     12\n",
       "61.0     12\n",
       "54.0     11\n",
       "57.0     10\n",
       "56.0      9\n",
       "58.0      9\n",
       "64.0      8\n",
       "67.0      7\n",
       "62.0      5\n",
       "59.0      5\n",
       "65.0      5\n",
       "68.0      4\n",
       "63.0      4\n",
       "66.0      4\n",
       "70.0      3\n",
       "71.0      2\n",
       "74.0      1\n",
       "24ko      1\n",
       "69.0      1\n",
       "99.0      1\n",
       "72.0      1\n",
       "75.0      1\n",
       "76.0      1\n",
       "Name: age, dtype: int64"
      ]
     },
     "execution_count": 8,
     "metadata": {},
     "output_type": "execute_result"
    }
   ],
   "source": [
    "survey['age'].value_counts()"
   ]
  },
  {
   "cell_type": "code",
   "execution_count": 9,
   "id": "5021a5a1",
   "metadata": {},
   "outputs": [],
   "source": [
    "survey[survey['age']=='24ko']=24"
   ]
  },
  {
   "cell_type": "code",
   "execution_count": 10,
   "id": "f99561a5",
   "metadata": {},
   "outputs": [
    {
     "data": {
      "text/plain": [
       "25.0    598\n",
       "24.0    450\n",
       "30.0    440\n",
       "28.0    396\n",
       "22.0    392\n",
       "26.0    389\n",
       "27.0    360\n",
       "20.0    328\n",
       "23.0    317\n",
       "21.0    311\n",
       "32.0    263\n",
       "35.0    263\n",
       "29.0    239\n",
       "40.0    177\n",
       "34.0    173\n",
       "19.0    171\n",
       "31.0    159\n",
       "33.0    143\n",
       "38.0    135\n",
       "36.0    127\n",
       "18.0    125\n",
       "42.0    104\n",
       "37.0     90\n",
       "45.0     82\n",
       "43.0     72\n",
       "39.0     69\n",
       "50.0     60\n",
       "44.0     54\n",
       "41.0     54\n",
       "48.0     35\n",
       "47.0     34\n",
       "46.0     32\n",
       "49.0     27\n",
       "52.0     24\n",
       "51.0     23\n",
       "55.0     20\n",
       "60.0     15\n",
       "61.0     12\n",
       "53.0     12\n",
       "54.0     11\n",
       "57.0     10\n",
       "56.0      9\n",
       "58.0      9\n",
       "64.0      8\n",
       "67.0      7\n",
       "59.0      5\n",
       "65.0      5\n",
       "62.0      5\n",
       "66.0      4\n",
       "68.0      4\n",
       "63.0      4\n",
       "70.0      3\n",
       "71.0      2\n",
       "74.0      1\n",
       "69.0      1\n",
       "99.0      1\n",
       "72.0      1\n",
       "75.0      1\n",
       "76.0      1\n",
       "Name: age, dtype: int64"
      ]
     },
     "execution_count": 10,
     "metadata": {},
     "output_type": "execute_result"
    }
   ],
   "source": [
    "survey['age'].value_counts()"
   ]
  },
  {
   "cell_type": "code",
   "execution_count": 11,
   "id": "03631ffc",
   "metadata": {},
   "outputs": [
    {
     "name": "stdout",
     "output_type": "stream",
     "text": [
      "93.18479685452162\n"
     ]
    }
   ],
   "source": [
    "count = (survey['age'] < 45).sum()\n",
    "print(count/len(survey['age'])*100)"
   ]
  },
  {
   "cell_type": "code",
   "execution_count": 12,
   "id": "a144b668",
   "metadata": {},
   "outputs": [],
   "source": [
    "def age_group(x):\n",
    "    if (x>55):\n",
    "        return \"55+\"\n",
    "    elif (x>39):\n",
    "        return \"40-55\"\n",
    "    elif (x>24):\n",
    "        return \"25-40\"\n",
    "    else :\n",
    "        return \"18-25\""
   ]
  },
  {
   "cell_type": "code",
   "execution_count": 13,
   "id": "db080786",
   "metadata": {},
   "outputs": [],
   "source": [
    "survey['age_group']=survey['age'].apply(age_group)"
   ]
  },
  {
   "cell_type": "code",
   "execution_count": 14,
   "id": "cb36ad5b",
   "metadata": {},
   "outputs": [
    {
     "data": {
      "text/plain": [
       "0    25-40\n",
       "1    25-40\n",
       "2    25-40\n",
       "3    25-40\n",
       "4    18-25\n",
       "Name: age_group, dtype: object"
      ]
     },
     "execution_count": 14,
     "metadata": {},
     "output_type": "execute_result"
    }
   ],
   "source": [
    "survey['age_group'].head()"
   ]
  },
  {
   "cell_type": "code",
   "execution_count": 15,
   "id": "e8153181",
   "metadata": {},
   "outputs": [
    {
     "data": {
      "text/plain": [
       "<AxesSubplot:>"
      ]
     },
     "execution_count": 15,
     "metadata": {},
     "output_type": "execute_result"
    },
    {
     "data": {
      "image/png": "[encoded data removed]",
      "text/plain": [
       "<Figure size 432x288 with 1 Axes>"
      ]
     },
     "metadata": {
      "needs_background": "light"
     },
     "output_type": "display_data"
    }
   ],
   "source": [
    "survey['age_group'].value_counts().plot(kind='bar')"
   ]
  },
  {
   "cell_type": "code",
   "execution_count": 16,
   "id": "b6edbe55",
   "metadata": {},
   "outputs": [
    {
     "data": {
      "text/html": [
       "<div>\n",
       "<style scoped>\n",
       "    .dataframe tbody tr th:only-of-type {\n",
       "        vertical-align: middle;\n",
       "    }\n",
       "\n",
       "    .dataframe tbody tr th {\n",
       "        vertical-align: top;\n",
       "    }\n",
       "\n",
       "    .dataframe thead th {\n",
       "        text-align: right;\n",
       "    }\n",
       "</style>\n",
       "<table border=\"1\" class=\"dataframe\">\n",
       "  <thead>\n",
       "    <tr style=\"text-align: right;\">\n",
       "      <th></th>\n",
       "      <th>response_id</th>\n",
       "      <th>collection_date</th>\n",
       "      <th>urban_rural</th>\n",
       "      <th>education</th>\n",
       "      <th>income</th>\n",
       "      <th>Vote_Now</th>\n",
       "      <th>Past_Vote</th>\n",
       "      <th>CM_satisfaction</th>\n",
       "      <th>MLA_satisfaction</th>\n",
       "      <th>age</th>\n",
       "      <th>gender</th>\n",
       "      <th>assembly_no</th>\n",
       "      <th>category</th>\n",
       "      <th>weight</th>\n",
       "      <th>age_group</th>\n",
       "    </tr>\n",
       "  </thead>\n",
       "  <tbody>\n",
       "    <tr>\n",
       "      <th>0</th>\n",
       "      <td>1.0</td>\n",
       "      <td>2020-08-24 00:00:00</td>\n",
       "      <td>Rural</td>\n",
       "      <td>12th Pass</td>\n",
       "      <td>₹ 30,000 - ₹ 50,000</td>\n",
       "      <td>BJP</td>\n",
       "      <td>BJP</td>\n",
       "      <td>Fully Dissatisfied</td>\n",
       "      <td>Fully Dissatisfied</td>\n",
       "      <td>26.0</td>\n",
       "      <td>Male</td>\n",
       "      <td>211.0</td>\n",
       "      <td>Gen</td>\n",
       "      <td>0.346969</td>\n",
       "      <td>25-40</td>\n",
       "    </tr>\n",
       "    <tr>\n",
       "      <th>1</th>\n",
       "      <td>2.0</td>\n",
       "      <td>2020-08-24 00:00:00</td>\n",
       "      <td>Rural</td>\n",
       "      <td>Graduate</td>\n",
       "      <td>₹ 20,000 - ₹ 30,000</td>\n",
       "      <td>RLSP</td>\n",
       "      <td>JD(U)</td>\n",
       "      <td>Somewhat Satisfied</td>\n",
       "      <td>Fully Dissatisfied</td>\n",
       "      <td>34.0</td>\n",
       "      <td>Male</td>\n",
       "      <td>189.0</td>\n",
       "      <td>BC</td>\n",
       "      <td>0.603419</td>\n",
       "      <td>25-40</td>\n",
       "    </tr>\n",
       "    <tr>\n",
       "      <th>2</th>\n",
       "      <td>3.0</td>\n",
       "      <td>2020-08-24 00:00:00</td>\n",
       "      <td>Rural</td>\n",
       "      <td>Graduate</td>\n",
       "      <td>₹ 5,000 - ₹ 10,000</td>\n",
       "      <td>JAP(L)</td>\n",
       "      <td>BJP</td>\n",
       "      <td>Fully Dissatisfied</td>\n",
       "      <td>Somewhat Satisfied</td>\n",
       "      <td>25.0</td>\n",
       "      <td>Male</td>\n",
       "      <td>191.0</td>\n",
       "      <td>Gen</td>\n",
       "      <td>0.673762</td>\n",
       "      <td>25-40</td>\n",
       "    </tr>\n",
       "    <tr>\n",
       "      <th>3</th>\n",
       "      <td>4.0</td>\n",
       "      <td>2020-08-24 00:00:00</td>\n",
       "      <td>Urban</td>\n",
       "      <td>Graduate</td>\n",
       "      <td>₹ 10,000 - ₹ 20,000</td>\n",
       "      <td>RJD</td>\n",
       "      <td>RJD</td>\n",
       "      <td>Fully Dissatisfied</td>\n",
       "      <td>Somewhat Satisfied</td>\n",
       "      <td>36.0</td>\n",
       "      <td>Male</td>\n",
       "      <td>194.0</td>\n",
       "      <td>Gen</td>\n",
       "      <td>1.101298</td>\n",
       "      <td>25-40</td>\n",
       "    </tr>\n",
       "    <tr>\n",
       "      <th>4</th>\n",
       "      <td>5.0</td>\n",
       "      <td>2020-08-24 00:00:00</td>\n",
       "      <td>Rural</td>\n",
       "      <td>Graduate</td>\n",
       "      <td>₹ 50,000 - ₹ 80,000</td>\n",
       "      <td>JD(U)</td>\n",
       "      <td>Did not vote</td>\n",
       "      <td>Fully Satisfied</td>\n",
       "      <td>Fully Satisfied</td>\n",
       "      <td>22.0</td>\n",
       "      <td>Male</td>\n",
       "      <td>176.0</td>\n",
       "      <td>BC</td>\n",
       "      <td>0.333505</td>\n",
       "      <td>18-25</td>\n",
       "    </tr>\n",
       "    <tr>\n",
       "      <th>...</th>\n",
       "      <td>...</td>\n",
       "      <td>...</td>\n",
       "      <td>...</td>\n",
       "      <td>...</td>\n",
       "      <td>...</td>\n",
       "      <td>...</td>\n",
       "      <td>...</td>\n",
       "      <td>...</td>\n",
       "      <td>...</td>\n",
       "      <td>...</td>\n",
       "      <td>...</td>\n",
       "      <td>...</td>\n",
       "      <td>...</td>\n",
       "      <td>...</td>\n",
       "      <td>...</td>\n",
       "    </tr>\n",
       "    <tr>\n",
       "      <th>6862</th>\n",
       "      <td>6863.0</td>\n",
       "      <td>2020-09-01 00:00:00</td>\n",
       "      <td>Rural</td>\n",
       "      <td>10th Pass</td>\n",
       "      <td>BPL/Below ₹ 5,000</td>\n",
       "      <td>JD(U)</td>\n",
       "      <td>BJP</td>\n",
       "      <td>Fully Satisfied</td>\n",
       "      <td>Fully Dissatisfied</td>\n",
       "      <td>25.0</td>\n",
       "      <td>Male</td>\n",
       "      <td>166.0</td>\n",
       "      <td>Gen</td>\n",
       "      <td>0.036329</td>\n",
       "      <td>25-40</td>\n",
       "    </tr>\n",
       "    <tr>\n",
       "      <th>6863</th>\n",
       "      <td>6864.0</td>\n",
       "      <td>2020-09-01 00:00:00</td>\n",
       "      <td>Rural</td>\n",
       "      <td>Graduate</td>\n",
       "      <td>BPL/Below ₹ 5,000</td>\n",
       "      <td>RJD</td>\n",
       "      <td>RJD</td>\n",
       "      <td>Fully Dissatisfied</td>\n",
       "      <td>Fully Dissatisfied</td>\n",
       "      <td>30.0</td>\n",
       "      <td>Male</td>\n",
       "      <td>169.0</td>\n",
       "      <td>BC</td>\n",
       "      <td>0.252780</td>\n",
       "      <td>25-40</td>\n",
       "    </tr>\n",
       "    <tr>\n",
       "      <th>6864</th>\n",
       "      <td>6865.0</td>\n",
       "      <td>2020-09-01 00:00:00</td>\n",
       "      <td>Urban</td>\n",
       "      <td>Graduate</td>\n",
       "      <td>₹ 5,000 - ₹ 10,000</td>\n",
       "      <td>JAP(L)</td>\n",
       "      <td>RJD</td>\n",
       "      <td>Can’t say</td>\n",
       "      <td>Fully Dissatisfied</td>\n",
       "      <td>20.0</td>\n",
       "      <td>Male</td>\n",
       "      <td>241.0</td>\n",
       "      <td>Gen</td>\n",
       "      <td>1.812926</td>\n",
       "      <td>18-25</td>\n",
       "    </tr>\n",
       "    <tr>\n",
       "      <th>6865</th>\n",
       "      <td>6866.0</td>\n",
       "      <td>2020-09-01 00:00:00</td>\n",
       "      <td>Rural</td>\n",
       "      <td>Professional Education</td>\n",
       "      <td>₹ 10,000 - ₹ 20,000</td>\n",
       "      <td>BJP</td>\n",
       "      <td>Did not vote</td>\n",
       "      <td>Fully Satisfied</td>\n",
       "      <td>Somewhat Satisfied</td>\n",
       "      <td>23.0</td>\n",
       "      <td>Male</td>\n",
       "      <td>243.0</td>\n",
       "      <td>Gen</td>\n",
       "      <td>0.080137</td>\n",
       "      <td>18-25</td>\n",
       "    </tr>\n",
       "    <tr>\n",
       "      <th>6866</th>\n",
       "      <td>6867.0</td>\n",
       "      <td>2020-09-01 00:00:00</td>\n",
       "      <td>Rural</td>\n",
       "      <td>10th Pass</td>\n",
       "      <td>₹ 5,000 - ₹ 10,000</td>\n",
       "      <td>JAP(L)</td>\n",
       "      <td>JAP(L)</td>\n",
       "      <td>Fully Satisfied</td>\n",
       "      <td>Fully Satisfied</td>\n",
       "      <td>33.0</td>\n",
       "      <td>Male</td>\n",
       "      <td>241.0</td>\n",
       "      <td>Gen</td>\n",
       "      <td>1.797518</td>\n",
       "      <td>25-40</td>\n",
       "    </tr>\n",
       "  </tbody>\n",
       "</table>\n",
       "<p>6867 rows × 15 columns</p>\n",
       "</div>"
      ],
      "text/plain": [
       "      response_id      collection_date urban_rural               education  \\\n",
       "0             1.0  2020-08-24 00:00:00       Rural               12th Pass   \n",
       "1             2.0  2020-08-24 00:00:00       Rural                Graduate   \n",
       "2             3.0  2020-08-24 00:00:00       Rural                Graduate   \n",
       "3             4.0  2020-08-24 00:00:00       Urban                Graduate   \n",
       "4             5.0  2020-08-24 00:00:00       Rural                Graduate   \n",
       "...           ...                  ...         ...                     ...   \n",
       "6862       6863.0  2020-09-01 00:00:00       Rural               10th Pass   \n",
       "6863       6864.0  2020-09-01 00:00:00       Rural                Graduate   \n",
       "6864       6865.0  2020-09-01 00:00:00       Urban                Graduate   \n",
       "6865       6866.0  2020-09-01 00:00:00       Rural  Professional Education   \n",
       "6866       6867.0  2020-09-01 00:00:00       Rural               10th Pass   \n",
       "\n",
       "                   income Vote_Now     Past_Vote     CM_satisfaction  \\\n",
       "0     ₹ 30,000 - ₹ 50,000      BJP           BJP  Fully Dissatisfied   \n",
       "1     ₹ 20,000 - ₹ 30,000     RLSP         JD(U)  Somewhat Satisfied   \n",
       "2      ₹ 5,000 - ₹ 10,000   JAP(L)           BJP  Fully Dissatisfied   \n",
       "3     ₹ 10,000 - ₹ 20,000      RJD           RJD  Fully Dissatisfied   \n",
       "4     ₹ 50,000 - ₹ 80,000    JD(U)  Did not vote     Fully Satisfied   \n",
       "...                   ...      ...           ...                 ...   \n",
       "6862    BPL/Below ₹ 5,000    JD(U)           BJP     Fully Satisfied   \n",
       "6863    BPL/Below ₹ 5,000      RJD           RJD  Fully Dissatisfied   \n",
       "6864   ₹ 5,000 - ₹ 10,000   JAP(L)           RJD           Can’t say   \n",
       "6865  ₹ 10,000 - ₹ 20,000      BJP  Did not vote     Fully Satisfied   \n",
       "6866   ₹ 5,000 - ₹ 10,000   JAP(L)        JAP(L)     Fully Satisfied   \n",
       "\n",
       "        MLA_satisfaction   age gender  assembly_no category    weight  \\\n",
       "0     Fully Dissatisfied  26.0   Male        211.0      Gen  0.346969   \n",
       "1     Fully Dissatisfied  34.0   Male        189.0       BC  0.603419   \n",
       "2     Somewhat Satisfied  25.0   Male        191.0      Gen  0.673762   \n",
       "3     Somewhat Satisfied  36.0   Male        194.0      Gen  1.101298   \n",
       "4        Fully Satisfied  22.0   Male        176.0       BC  0.333505   \n",
       "...                  ...   ...    ...          ...      ...       ...   \n",
       "6862  Fully Dissatisfied  25.0   Male        166.0      Gen  0.036329   \n",
       "6863  Fully Dissatisfied  30.0   Male        169.0       BC  0.252780   \n",
       "6864  Fully Dissatisfied  20.0   Male        241.0      Gen  1.812926   \n",
       "6865  Somewhat Satisfied  23.0   Male        243.0      Gen  0.080137   \n",
       "6866     Fully Satisfied  33.0   Male        241.0      Gen  1.797518   \n",
       "\n",
       "     age_group  \n",
       "0        25-40  \n",
       "1        25-40  \n",
       "2        25-40  \n",
       "3        25-40  \n",
       "4        18-25  \n",
       "...        ...  \n",
       "6862     25-40  \n",
       "6863     25-40  \n",
       "6864     18-25  \n",
       "6865     18-25  \n",
       "6866     25-40  \n",
       "\n",
       "[6867 rows x 15 columns]"
      ]
     },
     "execution_count": 16,
     "metadata": {},
     "output_type": "execute_result"
    }
   ],
   "source": [
    "survey"
   ]
  },
  {
   "cell_type": "code",
   "execution_count": 17,
   "id": "cedb80de",
   "metadata": {},
   "outputs": [
    {
     "data": {
      "text/plain": [
       "'25-40'"
      ]
     },
     "execution_count": 17,
     "metadata": {},
     "output_type": "execute_result"
    }
   ],
   "source": [
    "survey['age_group'].describe().top"
   ]
  },
  {
   "cell_type": "code",
   "execution_count": 18,
   "id": "afa9fa92",
   "metadata": {},
   "outputs": [
    {
     "name": "stdout",
     "output_type": "stream",
     "text": [
      "11.810106305519149\n"
     ]
    }
   ],
   "source": [
    "vote_count = len(survey[(survey['Vote_Now'] == \"RJD\") & (survey['Past_Vote'] == 'RJD')])\n",
    "print(vote_count/len(survey['age'])*100)"
   ]
  },
  {
   "cell_type": "code",
   "execution_count": 19,
   "id": "2efced15",
   "metadata": {},
   "outputs": [
    {
     "data": {
      "text/plain": [
       "Fully Dissatisfied       3012\n",
       "Somewhat Satisfied       2218\n",
       "Fully Satisfied           720\n",
       "Somewhat Dissatisfied     680\n",
       "Can’t say                 236\n",
       "24                          1\n",
       "Name: CM_satisfaction, dtype: int64"
      ]
     },
     "execution_count": 19,
     "metadata": {},
     "output_type": "execute_result"
    }
   ],
   "source": [
    "survey['CM_satisfaction'].value_counts()"
   ]
  },
  {
   "cell_type": "code",
   "execution_count": 20,
   "id": "d56acc56",
   "metadata": {},
   "outputs": [],
   "source": [
    "survey[survey['CM_satisfaction']==24]=\"Can’t say\""
   ]
  },
  {
   "cell_type": "code",
   "execution_count": 21,
   "id": "4c28b386",
   "metadata": {},
   "outputs": [
    {
     "data": {
      "text/plain": [
       "Fully Dissatisfied       3012\n",
       "Somewhat Satisfied       2218\n",
       "Fully Satisfied           720\n",
       "Somewhat Dissatisfied     680\n",
       "Can’t say                 237\n",
       "Name: CM_satisfaction, dtype: int64"
      ]
     },
     "execution_count": 21,
     "metadata": {},
     "output_type": "execute_result"
    }
   ],
   "source": [
    "survey['CM_satisfaction'].value_counts()"
   ]
  },
  {
   "cell_type": "code",
   "execution_count": 22,
   "id": "4a1fdb7c",
   "metadata": {},
   "outputs": [
    {
     "data": {
      "text/plain": [
       "collection_date\n",
       "2020-08-24    145\n",
       "2020-08-25     95\n",
       "2020-08-26     59\n",
       "2020-08-27     54\n",
       "2020-08-28     92\n",
       "2020-08-29     73\n",
       "2020-08-30     65\n",
       "2020-08-31     62\n",
       "2020-09-01     75\n",
       "dtype: int64"
      ]
     },
     "execution_count": 22,
     "metadata": {},
     "output_type": "execute_result"
    }
   ],
   "source": [
    "filtered_survey = survey[survey['CM_satisfaction'] == \"Fully Satisfied\"]\n",
    "groupby_date = filtered_survey.groupby('collection_date').size()\n",
    "groupby_date\n"
   ]
  },
  {
   "cell_type": "code",
   "execution_count": 23,
   "id": "188fbc2d",
   "metadata": {},
   "outputs": [
    {
     "data": {
      "text/plain": [
       "Text(0.5, 0, 'Date')"
      ]
     },
     "execution_count": 23,
     "metadata": {},
     "output_type": "execute_result"
    },
    {
     "data": {
      "image/png": "[encoded data removed]",
      "text/plain": [
       "<Figure size 432x288 with 1 Axes>"
      ]
     },
     "metadata": {
      "needs_background": "light"
     },
     "output_type": "display_data"
    }
   ],
   "source": [
    "groupby_date.plot(kind='bar')\n",
    "plt.ylabel('No of People Satisfied by CM')\n",
    "plt.xlabel(\"Date\")"
   ]
  },
  {
   "cell_type": "code",
   "execution_count": 24,
   "id": "bd6348d2",
   "metadata": {},
   "outputs": [],
   "source": [
    "satisfaction = survey['CM_satisfaction'].value_counts()"
   ]
  },
  {
   "cell_type": "code",
   "execution_count": 25,
   "id": "f8689ff1",
   "metadata": {},
   "outputs": [
    {
     "data": {
      "text/plain": [
       "<AxesSubplot:>"
      ]
     },
     "execution_count": 25,
     "metadata": {},
     "output_type": "execute_result"
    },
    {
     "data": {
      "image/png": "[encoded data removed]",
      "text/plain": [
       "<Figure size 432x288 with 1 Axes>"
      ]
     },
     "metadata": {
      "needs_background": "light"
     },
     "output_type": "display_data"
    }
   ],
   "source": [
    "satisfaction.plot(kind=\"bar\")"
   ]
  },
  {
   "cell_type": "code",
   "execution_count": 26,
   "id": "b72c64a8",
   "metadata": {},
   "outputs": [],
   "source": [
    "MLA=survey[survey['MLA_satisfaction']==\"Fully Dissatisfied\"]\n",
    "groupby_MLA=MLA.groupby('collection_date').size()"
   ]
  },
  {
   "cell_type": "code",
   "execution_count": 27,
   "id": "7285fce0",
   "metadata": {},
   "outputs": [
    {
     "data": {
      "text/plain": [
       "collection_date\n",
       "2020-08-24    887\n",
       "2020-08-25    630\n",
       "2020-08-26    353\n",
       "2020-08-27    403\n",
       "2020-08-28    462\n",
       "2020-08-29    350\n",
       "2020-08-30    361\n",
       "2020-08-31    321\n",
       "2020-09-01    385\n",
       "dtype: int64"
      ]
     },
     "execution_count": 27,
     "metadata": {},
     "output_type": "execute_result"
    }
   ],
   "source": [
    "groupby_MLA"
   ]
  },
  {
   "cell_type": "code",
   "execution_count": 28,
   "id": "838b7ad7",
   "metadata": {},
   "outputs": [
    {
     "data": {
      "text/plain": [
       "<AxesSubplot:xlabel='collection_date'>"
      ]
     },
     "execution_count": 28,
     "metadata": {},
     "output_type": "execute_result"
    },
    {
     "data": {
      "image/png": "[encoded data removed]",
      "text/plain": [
       "<Figure size 432x288 with 1 Axes>"
      ]
     },
     "metadata": {
      "needs_background": "light"
     },
     "output_type": "display_data"
    }
   ],
   "source": [
    "groupby_MLA.plot(kind=\"bar\")"
   ]
  },
  {
   "cell_type": "code",
   "execution_count": 29,
   "id": "36ecfbce",
   "metadata": {},
   "outputs": [
    {
     "data": {
      "image/png": "[encoded data removed]",
      "text/plain": [
       "<Figure size 720x432 with 1 Axes>"
      ]
     },
     "metadata": {
      "needs_background": "light"
     },
     "output_type": "display_data"
    }
   ],
   "source": [
    "plt.figure(figsize=(10, 6))  \n",
    "plt.plot(groupby_MLA.index, groupby_MLA.values)\n",
    "plt.xlabel('Collection Date')\n",
    "plt.ylabel('Dissatisfaction Proportion')\n",
    "plt.title('Day-wise Proportion of Respondents Dissatisfied with MLA')\n",
    "plt.grid(True)\n",
    "plt.show()"
   ]
  },
  {
   "cell_type": "code",
   "execution_count": 30,
   "id": "45ff475a",
   "metadata": {
    "scrolled": true
   },
   "outputs": [
    {
     "name": "stdout",
     "output_type": "stream",
     "text": [
      "Vote_Now      AAP  AIMIM     BJP  BSP  Can’t say  HAM   INC  JAP(L)  JD(U)  \\\n",
      "Past_Vote                                                                    \n",
      "BJP           7.0    1.0  1630.0  3.0        NaN  5.0  42.0   101.0  110.0   \n",
      "BSP           NaN    1.0     2.0  5.0        NaN  NaN   1.0     NaN    NaN   \n",
      "Can’t say     NaN    NaN     NaN  NaN        1.0  NaN   NaN     NaN    NaN   \n",
      "Did not vote  8.0    5.0   231.0  2.0        NaN  1.0  22.0    41.0   69.0   \n",
      "HAM           2.0    NaN    25.0  NaN        NaN  1.0   NaN     3.0    2.0   \n",
      "INC           NaN    6.0     6.0  NaN        NaN  NaN  57.0    10.0    9.0   \n",
      "JAP(L)        NaN    NaN     4.0  NaN        NaN  NaN   NaN    35.0    NaN   \n",
      "JD(U)         6.0   10.0   254.0  2.0        NaN  2.0  45.0    72.0  279.0   \n",
      "LJP           NaN    NaN    76.0  1.0        NaN  NaN   4.0     3.0    6.0   \n",
      "Left Front    NaN    1.0     2.0  NaN        NaN  NaN   1.0     NaN    NaN   \n",
      "NOTA          NaN    1.0    29.0  1.0        NaN  NaN   9.0     7.0    7.0   \n",
      "Others        1.0    5.0    45.0  1.0        NaN  1.0   4.0     7.0    3.0   \n",
      "RJD           3.0    7.0    46.0  NaN        NaN  1.0  31.0    31.0   39.0   \n",
      "RLSP          NaN    NaN    17.0  NaN        NaN  NaN   NaN     3.0    NaN   \n",
      "VIP           NaN    NaN     NaN  NaN        NaN  NaN   NaN     NaN    1.0   \n",
      "\n",
      "Vote_Now       LJP  Left Front   NOTA  Others  Plurals    RJD  RJJP  RLSP  \\\n",
      "Past_Vote                                                                   \n",
      "BJP           44.0        13.0  194.0    32.0     87.0  370.0  88.0  24.0   \n",
      "BSP            NaN         NaN    NaN     NaN      NaN    NaN   NaN   NaN   \n",
      "Can’t say      NaN         NaN    NaN     NaN      NaN    NaN   NaN   NaN   \n",
      "Did not vote  10.0        16.0   83.0    11.0     51.0  195.0  20.0   3.0   \n",
      "HAM            2.0         NaN    4.0     NaN      NaN    6.0   4.0   NaN   \n",
      "INC            NaN         3.0    6.0     3.0      3.0  100.0   1.0   2.0   \n",
      "JAP(L)         NaN         NaN    NaN     1.0      NaN    2.0   NaN   NaN   \n",
      "JD(U)         29.0         9.0   90.0    18.0     43.0  435.0  13.0  25.0   \n",
      "LJP            9.0         2.0    3.0     NaN      2.0   17.0   1.0   NaN   \n",
      "Left Front     NaN        18.0    1.0     1.0      NaN    4.0   NaN   1.0   \n",
      "NOTA           3.0         5.0   46.0     7.0     11.0   27.0   5.0   4.0   \n",
      "Others         1.0         4.0   10.0     6.0      8.0   21.0   7.0   1.0   \n",
      "RJD            4.0         9.0   18.0     8.0     10.0  811.0   1.0  10.0   \n",
      "RLSP           NaN         NaN    3.0     NaN      2.0    8.0   2.0  12.0   \n",
      "VIP            NaN         NaN    NaN     NaN      NaN    NaN   NaN   NaN   \n",
      "\n",
      "Vote_Now      Undecided   VIP  \n",
      "Past_Vote                      \n",
      "BJP                62.0  10.0  \n",
      "BSP                 NaN   NaN  \n",
      "Can’t say           NaN   NaN  \n",
      "Did not vote       31.0   5.0  \n",
      "HAM                 1.0   NaN  \n",
      "INC                 7.0   NaN  \n",
      "JAP(L)              NaN   NaN  \n",
      "JD(U)              36.0   6.0  \n",
      "LJP                 1.0   NaN  \n",
      "Left Front          NaN   1.0  \n",
      "NOTA                5.0   NaN  \n",
      "Others              6.0   NaN  \n",
      "RJD                14.0   4.0  \n",
      "RLSP                1.0   1.0  \n",
      "VIP                 NaN   1.0  \n"
     ]
    }
   ],
   "source": [
    "\n",
    "pivot_table = pd.pivot_table(survey, values='response_id', index='Past_Vote', columns='Vote_Now', aggfunc='count')  \n",
    "\n",
    "\n",
    "print(pivot_table)\n"
   ]
  },
  {
   "cell_type": "code",
   "execution_count": 31,
   "id": "5c66fecc",
   "metadata": {},
   "outputs": [
    {
     "data": {
      "text/plain": [
       "25-40        3844\n",
       "18-25        2093\n",
       "40-55         821\n",
       "55+           108\n",
       "Can’t say       1\n",
       "Name: age_group, dtype: int64"
      ]
     },
     "execution_count": 31,
     "metadata": {},
     "output_type": "execute_result"
    }
   ],
   "source": [
    "groupby_age=survey['age_group'].value_counts()\n",
    "groupby_age"
   ]
  },
  {
   "cell_type": "code",
   "execution_count": 32,
   "id": "71c44db2",
   "metadata": {},
   "outputs": [
    {
     "data": {
      "text/plain": [
       "Text(0.5, 0, 'Age Groups')"
      ]
     },
     "execution_count": 32,
     "metadata": {},
     "output_type": "execute_result"
    },
    {
     "data": {
      "image/png": "[encoded data removed]",
      "text/plain": [
       "<Figure size 432x288 with 1 Axes>"
      ]
     },
     "metadata": {
      "needs_background": "light"
     },
     "output_type": "display_data"
    }
   ],
   "source": [
    "groupby_age.plot(kind=\"bar\")\n",
    "plt.ylabel(\"Count\")\n",
    "plt.xlabel(\"Age Groups\")"
   ]
  },
  {
   "cell_type": "code",
   "execution_count": 33,
   "id": "41393ee4",
   "metadata": {},
   "outputs": [
    {
     "data": {
      "text/html": [
       "<div>\n",
       "<style scoped>\n",
       "    .dataframe tbody tr th:only-of-type {\n",
       "        vertical-align: middle;\n",
       "    }\n",
       "\n",
       "    .dataframe tbody tr th {\n",
       "        vertical-align: top;\n",
       "    }\n",
       "\n",
       "    .dataframe thead th {\n",
       "        text-align: right;\n",
       "    }\n",
       "</style>\n",
       "<table border=\"1\" class=\"dataframe\">\n",
       "  <thead>\n",
       "    <tr style=\"text-align: right;\">\n",
       "      <th></th>\n",
       "      <th>age_group</th>\n",
       "    </tr>\n",
       "  </thead>\n",
       "  <tbody>\n",
       "    <tr>\n",
       "      <th>25-40</th>\n",
       "      <td>3844</td>\n",
       "    </tr>\n",
       "    <tr>\n",
       "      <th>18-25</th>\n",
       "      <td>2093</td>\n",
       "    </tr>\n",
       "    <tr>\n",
       "      <th>40-55</th>\n",
       "      <td>821</td>\n",
       "    </tr>\n",
       "    <tr>\n",
       "      <th>55+</th>\n",
       "      <td>108</td>\n",
       "    </tr>\n",
       "    <tr>\n",
       "      <th>Can’t say</th>\n",
       "      <td>1</td>\n",
       "    </tr>\n",
       "  </tbody>\n",
       "</table>\n",
       "</div>"
      ],
      "text/plain": [
       "           age_group\n",
       "25-40           3844\n",
       "18-25           2093\n",
       "40-55            821\n",
       "55+              108\n",
       "Can’t say          1"
      ]
     },
     "execution_count": 33,
     "metadata": {},
     "output_type": "execute_result"
    }
   ],
   "source": [
    "df=pd.DataFrame(groupby_age)\n",
    "\n",
    "\n",
    "df"
   ]
  },
  {
   "cell_type": "code",
   "execution_count": null,
   "id": "303a1d35",
   "metadata": {},
   "outputs": [],
   "source": []
  }
 ],
 "metadata": {
  "kernelspec": {
   "display_name": "Python 3 (ipykernel)",
   "language": "python",
   "name": "python3"
  },
  "language_info": {
   "codemirror_mode": {
    "name": "ipython",
    "version": 3
   },
   "file_extension": ".py",
   "mimetype": "text/x-python",
   "name": "python",
   "nbconvert_exporter": "python",
   "pygments_lexer": "ipython3",
   "version": "3.9.7"
  }
 },
 "nbformat": 4,
 "nbformat_minor": 5
}
